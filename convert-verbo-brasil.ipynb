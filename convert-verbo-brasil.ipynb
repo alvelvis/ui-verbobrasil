{
 "cells": [
  {
   "cell_type": "code",
   "execution_count": null,
   "metadata": {},
   "outputs": [],
   "source": [
    "from tqdm import tqdm\n",
    "import os\n",
    "files = [x for x in os.listdir(\"Verbo-Brasil\") if x.endswith(\".html\")]\n",
    "\n",
    "verbos = {}\n",
    "for file in tqdm(files):\n",
    "    with open(\"Verbo-Brasil/%s\" % file) as f:\n",
    "        verbos[file] = f.read()"
   ]
  },
  {
   "cell_type": "code",
   "execution_count": null,
   "metadata": {},
   "outputs": [],
   "source": [
    "verbos['utilizar-v.html'].split('<font color=\"green\">')"
   ]
  },
  {
   "cell_type": "code",
   "execution_count": null,
   "metadata": {},
   "outputs": [],
   "source": [
    "import json\n",
    "\n",
    "frames = {}\n",
    "args = {}\n",
    "roles = {}\n",
    "for verbo in verbos:\n",
    "    fms = {x.split(\"</font>\")[0]: {'html': x.split(\"</font>\")[1]} for x in verbos[verbo].split('<font color=\"green\">')[1:]}\n",
    "    for frame in fms:\n",
    "        print(frame)\n",
    "        frames[frame] = fms[frame]\n",
    "        frames[frame]['args'] = [x.split(\"</b>\")[0] for x in frames[frame]['html'].split(\"<b>\")[1:]]\n",
    "        frames[frame]['desc'] = frames[frame]['html'].split(\"<i>\")[1].split(\"</i>\")[0]\n",
    "        frames[frame]['roles'] = [x.split(\"</i>\")[0] for x in frames[frame]['html'].split(\"<i>\")[2:]]\n",
    "        frames[frame]['string'] = f\"frame:{frame}<sep>args:{';'.join(frames[frame]['args'])}<sep>desc:{frames[frame]['desc']}<sep>roles:{';'.join(['%s:%s' % (frames[frame]['args'][i], x) if len(frames[frame]['args']) == len(frames[frame]['roles']) else x for i, x in enumerate(frames[frame]['roles'])])}<sep>\"\n",
    "        del frames[frame]['html']\n",
    "\n",
    "with open(\"frames.js\", \"w\") as f:\n",
    "    f.write(\"const data = \" + json.dumps(frames))"
   ]
  },
  {
   "cell_type": "code",
   "execution_count": null,
   "metadata": {},
   "outputs": [],
   "source": []
  }
 ],
 "metadata": {
  "kernelspec": {
   "display_name": "Python 3",
   "language": "python",
   "name": "python3"
  },
  "language_info": {
   "codemirror_mode": {
    "name": "ipython",
    "version": 3
   },
   "file_extension": ".py",
   "mimetype": "text/x-python",
   "name": "python",
   "nbconvert_exporter": "python",
   "pygments_lexer": "ipython3",
   "version": "3.8.10"
  }
 },
 "nbformat": 4,
 "nbformat_minor": 2
}
